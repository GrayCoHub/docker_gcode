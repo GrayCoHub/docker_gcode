{
 "cells": [
  {
   "cell_type": "code",
   "execution_count": null,
   "id": "63216bd9-cafa-465f-875a-9273ec6f9b2d",
   "metadata": {
    "vscode": {
     "languageId": "r"
    }
   },
   "outputs": [],
   "source": []
  },
  {
   "cell_type": "code",
   "execution_count": null,
   "id": "ba87efa5-a425-4b56-9ad9-5f40ca0b9cac",
   "metadata": {
    "tags": []
   },
   "outputs": [],
   "source": [
    "library(IRdisplay)\n",
    "\n",
    "# GitHub & package control"
   ]
  },
  {
   "cell_type": "code",
   "execution_count": null,
   "id": "23ac9a77-2d1f-41bb-a3f4-73af4a3389ce",
   "metadata": {
    "jupyter": {
     "source_hidden": true
    },
    "tags": [
     "hide-input"
    ]
   },
   "outputs": [],
   "source": [
    "# Fct - Welcome\n",
    "\n",
    "intro <- function() {\n",
    "    # Define the message\n",
    "    message <- '<font size=\"4\" color=\"yellow\">\n",
    "    Welcome to gcode turn down notebook: \n",
    "    </br>\n",
    "     <font color=\"lime\" size=\"3\">\n",
    "    &emsp;A notebook for creating the gcode to perform a common turn down operation by a CNC lathe\n",
    "    </font>\n",
    "    <br>\n",
    "    <br>\n",
    "    </font>'    \n",
    "\n",
    "    # Display the message and wait for Enter key press\n",
    "    invisible({\n",
    "      display_html(message)\n",
    "      readline(prompt = \"Press Enter to continue...\\n\")\n",
    "    })\n",
    "}\n",
    "intro()"
   ]
  },
  {
   "cell_type": "code",
   "execution_count": null,
   "id": "8fd509b9-0c59-4de1-b759-a24a4f6b7229",
   "metadata": {
    "jupyter": {
     "source_hidden": true
    },
    "tags": [
     "hide-input"
    ],
    "vscode": {
     "languageId": "r"
    }
   },
   "outputs": [],
   "source": [
    "intro_TD <- function () {    \n",
    "\n",
    "    # fct call to begin turn_data fct\n",
    "    msg <- '<font size=\"4\" color=\"yellow\">\n",
    "         Turning data input: <br>\n",
    "         <font color=\"red\" size=\"3\"> \n",
    "         &emsp; < Do NOT enter negative numbers >\n",
    "         </font>\n",
    "         <br>\n",
    "         <br>\n",
    "         </font>'\n",
    "\n",
    "    # Display the message and wait for Enter key press\n",
    "        invisible({\n",
    "          display_html(msg)\n",
    "          readline(prompt = \"Press Enter to continue...\\n\")\n",
    "        })\n",
    "    Turn_Data()\n",
    "}"
   ]
  },
  {
   "cell_type": "code",
   "execution_count": null,
   "id": "1f2b5661-56f7-455a-baaf-af6bd2c43f52",
   "metadata": {
    "jupyter": {
     "source_hidden": true
    },
    "tags": [
     "hide-input"
    ],
    "vscode": {
     "languageId": "r"
    }
   },
   "outputs": [],
   "source": [
    "# To re-start the Turn_Data( ) fct with data entry error is noticed\n",
    "\n",
    "redo <- function() {\n",
    "    # User prompt to restart Turn-Data ( ) \n",
    "    restart_input <- readline(prompt = paste(\"Review the input data.\",\n",
    "                              \"Do you want to re-input the data? (yes/no): \"))\n",
    "    # If user chooses to re-input data\n",
    "    if (tolower(restart_input) %in% c(\"yes\", \"y\")) {\n",
    "      # restart fct  \n",
    "      Turn_Data()\n",
    "     # If user does not want to re-input data\n",
    "    } else if (tolower(restart_input) %in% c(\"no\", \"n\")) {     \n",
    "      cat(\"Exiting... leaving lathe data input function.\", \"\\n\")\n",
    "      # All non y or n responses will restart \n",
    "    } else {\n",
    "        # restart turn fct\n",
    "       Turn_Data()\n",
    "    }\n",
    "}\n",
    "\n",
    "\n",
    "\n",
    "# Prompts for User Input: lathe\n",
    "    # Gets input for First Move\n",
    "    # Gets input for Second Move\n",
    "\n",
    "Turn_Data <- function() {\n",
    "    \n",
    "    valid_input <- FALSE    # Boolean switching value\n",
    "    # restart <- TRUE    \n",
    "   \n",
    "    # while loop - while FALSE is true\n",
    "    while (!valid_input) {        \n",
    "        \n",
    "        # Prompt the user for X value First Move (X start position)\n",
    "        user_input <- readline(prompt = paste(\"What is Initial Stock Diameter?\"))\n",
    "        \n",
    "        # Test if user input is not empty AND is numeric (data validation)\n",
    "        if (user_input == \"\" || !is.numeric(user_input)) {\n",
    "            # Assign X First Move (start position) to global variable\n",
    "            Start_Diameter <<- user_input                \n",
    "            # Convert X First Move variable to numeric\n",
    "            Start_Diameter <<- as.numeric(unlist(strsplit(Start_Diameter, \", \")))\n",
    "            # Set flag to exit the while loop\n",
    "            valid_input <- TRUE  \n",
    "            } # if validation\n",
    "\n",
    "        # Prompt user for the X First Move (X final position)\n",
    "        user_input <- readline(prompt = paste(\"What is the Finish Diameter?\"))\n",
    "        \n",
    "        # Test user input (data validation )\n",
    "        if (user_input == \"\" || !is.numeric(user_input)) {\n",
    "           # Assign X First Move (final position) to global variable \n",
    "           End_Diameter  <<- user_input\n",
    "           # Convert X First Move (final position) to numeric data type\n",
    "           End_Diameter <<- as.numeric(unlist(strsplit(End_Diameter, \", \")))\n",
    "           # Set flag to exit the while loop\n",
    "           valid_input <- TRUE  \n",
    "           } # end input / validation\n",
    "\n",
    "        # prompt user for the X incremental value \n",
    "        # This value will be used with sequenced X moves\n",
    "        user_input <- readline(prompt = paste(\"What is the depth of the rough cut?\",\n",
    "                                              \"Ex: steel .010-.020 \"))\n",
    "\n",
    "        # Check if input is empty or not numeric\n",
    "        if (user_input == \"\" || !is.numeric(user_input)) {\n",
    "            # assign X incremental value to global variable\n",
    "            Cut_Depth <<- user_input\n",
    "            # Convert X incremental value to numeric data type\n",
    "            Cut_Depth <<- as.numeric(unlist(strsplit(Cut_Depth, \", \")))\n",
    "            # Set flag to exit the while loop\n",
    "            valid_input <- TRUE  \n",
    "            } # end input\n",
    "\n",
    "        # prompt user for the Z value - Second Move \n",
    "        # This value will be used with sequenced Z moves)\n",
    "        user_input <- readline(\n",
    "            prompt = paste(\"What is length of the turning cut along the lathe Z axis?\"))\n",
    "\n",
    "        # Check if user input is empty or not numeric\n",
    "        if (user_input == \"\" || !is.numeric(user_input)) {\n",
    "            # Z incremental value\n",
    "            Z_Traverse <<- user_input\n",
    "            Z_Traverse <<- as.numeric(unlist(strsplit(Z_Traverse, \", \")))            \n",
    "                      \n",
    "            # Move the Z in the negative Z direction\n",
    "            if (Z_Traverse <= 0) {\n",
    "                cat(\"Invalid Z value: \", Z_Traverse, \"Restarting data entry\", \"\\n\")\n",
    "                Bailout()\n",
    "                valid_input <- TRUE  # Set flag to exit the while loop\n",
    "                }\n",
    "            valid_input <- TRUE  # Set flag to exit the while loop\n",
    "            } # end input \n",
    "\n",
    "        # Set flag to exit the outer while loop\n",
    "        valid_input <- TRUE              \n",
    "          \n",
    "   }   # end while loop \n",
    "    \n",
    "    # fct call \n",
    "    redo()\n",
    "    \n",
    "  } # end fct \n",
    " "
   ]
  },
  {
   "cell_type": "markdown",
   "id": "1b684e02-245c-420e-925c-2b0990c7d466",
   "metadata": {},
   "source": [
    "#### <font color = lime> Input: turning data"
   ]
  },
  {
   "cell_type": "code",
   "execution_count": null,
   "id": "d568d0e6-59f7-41ff-a1ce-59b3ee19cfcd",
   "metadata": {},
   "outputs": [],
   "source": [
    "intro_TD()"
   ]
  },
  {
   "cell_type": "code",
   "execution_count": null,
   "id": "e97a6eeb-ead2-4748-919a-02cb0ee3b52d",
   "metadata": {
    "tags": [
     "hide-input"
    ]
   },
   "outputs": [],
   "source": [
    "# Primary variables: the Four Moves which form the rectangular shape on the XZ plane for each turn\n",
    "\n",
    "# Set scipen to a large value to remove ee values\n",
    "options(scipen = 999)  \n",
    "\n",
    "# Explicitly format Z_Traverse to a 3 digit value\n",
    "a <- Z_Traverse\n",
    "Z_Traverse <- format(a, nsmall = 3)\n",
    "#  str(Z_Traverse)\n",
    "\n",
    "# re-assign user input vars \n",
    "C <- Cut_Depth\n",
    "T <- Z_Traverse\n",
    "# To set the safe X position after a turn down\n",
    "Retract_X <- Start_Diameter + .100\n",
    "# To set the return postion of Z (Used with G90 - absolute position mode)\n",
    "Home_Z <- 0\n",
    "\n",
    "# this will be the maximum stock removed by the rough / finish turning operations\n",
    "TotalTurnDown <- Start_Diameter - End_Diameter\n",
    "\n",
    "Radius <- Start_Diameter / 2   # may be unused var\n",
    "\n",
    "# change sign in case neg value entered for Z during prompt\n",
    "if (Cut_Depth < 0)        \n",
    "    Cut_Depth <- Cut_Depth *-1;\n",
    "# is the integer value for the number of itinerations (turns) \n",
    "Turns <- TotalTurnDown / Cut_Depth       \n",
    "\n",
    "#  variable used to track the reductions in diameter from each each roughing turn.  Assign initial value the start diameter\n",
    "Changing_Diameter <- Start_Diameter \n",
    "# format to 4 places\n",
    "ChangingDiameter <- format(Changing_Diameter, nsmall = 4)\n",
    "\n",
    "#Initialize 4 empty dataframes to store the 4 turn-down moves made along the X and Z axes\n",
    "# Use the for-loop to make the variable, Turns, number of turn-down moves.  \n",
    "\n",
    "# Completes the dfs with majority of the postional gcode ( X moves and Z moves). \n",
    "# The optional final rough cut & finish cuts, will provide the remainder of gcode later\n",
    "\n",
    "\n",
    "#  initialize df for X1 move positions\n",
    "X1_df <- data.frame(X = numeric(0))\n",
    "\n",
    "for (i in 1:Turns) {   \n",
    "   \n",
    "    # Create a new row df.  Use the Start_Diameter as the first X1 position\n",
    "      new_row <- data.frame(X = Changing_Diameter)\n",
    "      X1_df <- rbind(X1_df, new_row)      \n",
    "      #  Update the reduced stock diameter - reduced by Cut_Depth for each roughing pass (ONLY X )\n",
    "      Changing_Diameter <- Changing_Diameter - Cut_Depth\n",
    "    }\n",
    "# head(X1_df,2)\n",
    "\n",
    "#Initialize empty dataframes to store Z values\n",
    "Z1_df <- data.frame(Z = numeric(0))\n",
    "\n",
    "# Convert to neg value w/ three decimals\n",
    "chr_var <- Z_Traverse\n",
    "# Convert character to numeric and change the sign\n",
    "negative_Z <- as.numeric(chr_var) * -1\n",
    "# format to 3 decimals\n",
    "negative_3Z <- format(negative_Z, nsmall = 3)\n",
    "\n",
    "#str(Z_Traverse)\n",
    "for (i in 1:Turns) {   \n",
    "   \n",
    "    # Create a new row for each roughing turn      \n",
    "      new_row <- data.frame(Z = negative_3Z)\n",
    "      Z1_df <- rbind(Z1_df, new_row)      \n",
    "      }\n",
    "# tail(Z1_df, 2)\n",
    "\n",
    "X2_df <- data.frame(X2 = numeric(0))\n",
    "\n",
    "for (i in 1:Turns) {   \n",
    "   \n",
    "    # Create a new row for each roughing turn\n",
    "      new_row <- data.frame(X2 = Retract_X)\n",
    "      X2_df <- rbind(X2_df, new_row)      \n",
    "      }\n",
    "# head(X2_df,2)\n",
    "\n",
    "Z2_df <- data.frame(Z2 = numeric(0))\n",
    "Home_Z_3 <- format(Home_Z, nsmall = 3)\n",
    "\n",
    "for (i in 1:Turns) {   \n",
    "   \n",
    "    # Create a new row for each roughing turn\n",
    "      new_row <- data.frame(Z2 = Home_Z_3)\n",
    "      Z2_df <- rbind(Z2_df, new_row)      \n",
    "      }\n",
    "# head( Z2_df,2)\n",
    "\n",
    "#  The values from each of the rows from each of the 4 data frames get combined.\n",
    "#  to form the pattern (df1[i] - df4[i].  The for-loop creates a sequence of this  [1:4] data pattern. \n",
    "#  This sequence of the pattern continues (Turn times).  This results in  all the values from the equally \n",
    "#  sized dfs gets combined into sequantial (df1[i], df2[i], df3[i], df4[i] repeated patterns in the final list.\n",
    "\n",
    "# initialize an empty list\n",
    "glist <- list()\n",
    "\n",
    "# loop \n",
    "for(i in 1:Turns) {\n",
    "    selected1 <- paste(X1_df$X[i], collapse = \" \") # move down [i] row of each df\n",
    "    selected2 <- paste(Z1_df$Z[i], collapse = \" \")\n",
    "    selected3 <- paste(X2_df$X2[i], collapse = \" \")\n",
    "    selected4 <- paste(Z2_df$Z2[i], collapse = \" \")\n",
    "    # combine the selected into new glist - creating the sequential pattern (df1[i] - df4[i])\n",
    "    glist <- c(glist, list(selected1), list(selected2), list(selected3), list(selected4))   \n",
    "    }\n",
    "\n",
    "# The 4 sequenxced Moves for the rough turning process are added to an empty list\n",
    "\n",
    "#  initiate a new empty list\n",
    "gcode<- list()\n",
    "\n",
    "# loop \n",
    "for(i in 1:Turns) {\n",
    "    selected1 <- paste(\"G01\", \"X\", X1_df$X[i], \"F5\",  collapse = \" \") # move down [i] row of each df\n",
    "    selected2 <- paste(\"G01\", \"Z\", Z1_df$Z[i], \"F3\",  collapse = \" \")\n",
    "    selected3 <- paste(\"G00\", \"X\", X2_df$X2[i], collapse = \" \")\n",
    "    selected4 <- paste(\"G00\", \"Z\", Z2_df$Z2[i], collapse = \" \")\n",
    "    # combine the selected into new glist - creating the sequential pattern (df1[i] - df4[i])\n",
    "    gcode <- c(gcode, list(selected1), list(selected2), list(selected3), list(selected4))   \n",
    "    }\n",
    "\n",
    "# length(gcode)\n",
    "# gcode[1:8]\n",
    "\n",
    "#  variable used to track the reductions in diameter from each each roughing turn.  Assign initial value the start diameter\n",
    "\n",
    "# gcode has incremental positional pattern - every forth position\n",
    "v <- 4\n",
    "# Establish the frequency of the X1 positions form the patterns in glist\n",
    "n <- length(glist) / 4\n",
    "\n",
    "# The locations of each First Move (X1) in glist\n",
    "X1_pattern <- seq(from = 1, by = v, length.out = n)\n",
    "\n",
    "#  The final X1 value from glist - This value will be evaluated and used \n",
    "#    as the input X positional value for  Final Rough / Finish Cut fcts\n",
    "LastX1_Value <- glist[X1_pattern[length(X1_pattern)]]\n",
    "LastX1_Value  <- as.numeric(format(LastX1_Value, nsmall = 4))\n",
    "\n",
    "#  Initiate an empty list - Used in gcode_shortlist fct to track the X1 values \n",
    "#  that come from the user prompted X1 values in RC and FC functions\n",
    "getLastX <- list()\n",
    "\n",
    "\n",
    "#  The function will add one additional sequence (Moves 1 - 4) to the end of the existing gcode list\n",
    "#  LastX1_Value will be updated to track the changing X1 position\n",
    "#  The 4 moves will update the gcode list. \n",
    "\n",
    "gcode_shortlist <- function (c) {    \n",
    "    \n",
    "    valid_input <- FALSE    # Boolean var used to control continued entry w/in loop\n",
    "    \n",
    "    # the passed value: user cut size\n",
    "     Cut <- c\n",
    "     Test_OverCut <- (LastX1_Value - Cut )\n",
    "   \n",
    "    while (!valid_input) {     \n",
    "                \n",
    "        if(Test_OverCut < End_Diameter ) {\n",
    "            cat(\"User Entry Error: exceeded targeted stock finished diameter.  Exiting .... \")\n",
    "            valid_input = TRUE\n",
    "            }    \n",
    "        \n",
    "       # Update the variable that tracks the decreasing stock diameter \n",
    "        LastX1_Value <<- LastX1_Value - Cut\n",
    "        # assign values to getLastX\n",
    "        getLastX <<- c(getLastX, LastX1_Value)    # , after = length(getLastX)) \n",
    "      \n",
    "        \n",
    "       # cat(\"LastX1_Value less first Finish Cut value is: \", LastX1_Value, \"\\n\")\n",
    "\n",
    "        # create new sequence of the 4 moves, with the change being to X1\n",
    "        gcode <<- c(gcode, paste(\"G01\", \"X\", LastX1_Value, \"F3\", \"   (+ RC/FC)\", sep = \" \"))\n",
    "        gcode<<- c(gcode, paste(\"G01\", \"Z\", glist[2], \"F3\", \"    (+ RC/FC)\", sep = \" \"))\n",
    "        gcode <<- c(gcode, paste(\"G00\", \"X\", glist[3], \"    (+ RC/FC)\", sep = \" \"))\n",
    "        gcode <<- c(gcode, paste(\"G00\", \"Z\", glist[4], \"             (+ RC/FC)\", sep = \" \"))\n",
    "        \n",
    "        valid_input = TRUE\n",
    "        \n",
    "        # cat(\"Exiting gcode_shortlist ...\", \"\\n\")\n",
    "        \n",
    "    } # end while\n",
    "        \n",
    "} # end fct\n",
    "\n",
    "\n",
    "# User option:  Y or N - take a last rough cutting turn w/ the existing Cut size\n",
    "\n",
    "Rough_Cut <- function() {\n",
    "    # Define the variables\n",
    "    # LastX1_Value\n",
    "    c <- Cut_Depth \n",
    "       \n",
    "    #  User input with info\n",
    "        user_input <- readline(\n",
    "           paste(\"\\n\", \"There has been,\", nrow(X1_df) - 1, \"turns that have reduced the stock diameter.\", \"\\n\",\n",
    "            \"The stock diameter is currently : \", format(LastX1_Value, nsmall = 4), \"\\n\",\n",
    "            \"The size of each roughing cut is:\", Cut_Depth, \"\\n\",            \n",
    "            \"One additional roughing cut will reduce the stock diameter to:\", format(LastX1_Value - Cut_Depth, nsmall = 4), \"\\n\",  \n",
    "            \"The finished stock diameter is targeted to be the dimension:\", format(End_Diameter, nsmall = 4), \"\\n\", \"\\n\",            \n",
    "            \"Taking this optional rough turning cut will leave a remaining diameter for finish cut(s): \", format(LastX1_Value - Cut_Depth - End_Diameter, nsmall = 4), \"\\n\",\n",
    "            \"Enter Y to make one last rough cut now.\", \"\\n\", \n",
    "            \"Enter N to exit rough cuts and go directly to the finish cuts options.\", \"\\n\\n\"))\n",
    "   \n",
    "        # Convert input to uppercase for case-insensitive comparison\n",
    "        user_input <- toupper(user_input)         \n",
    "        testInput <- user_input\n",
    "    \n",
    "        # Check if the input is 'Y' or 'N'\n",
    "        if (user_input == 'Y'  ) {\n",
    "\n",
    "            # function call with the rough-cut size (Cut_Depth)\n",
    "            gcode_shortlist(c)       \n",
    "            cat(\"You entered Yes (Y). One last rough cut was taken.  Exiting ... rough cuts. \", \"\\n\",\n",
    "              \"Proceding to the finish cut options.\")\n",
    "            # exit if / exit Rough Cut function\n",
    "\n",
    "          } else if (testInput == 'N') {\n",
    "                print(\"Exit without optional last rough cut.  Starting the finish cut options ...\") \n",
    "                # Replace with your action for invalid input                                               \n",
    "          } else {\n",
    "                # print(\"Invalid input. Restarting ...\")\n",
    "                intro_RC()\n",
    "          }    \n",
    "}"
   ]
  },
  {
   "cell_type": "code",
   "execution_count": null,
   "id": "fa9928a8-5121-4751-9928-925d62e4a7a3",
   "metadata": {
    "jupyter": {
     "source_hidden": true
    },
    "tags": [
     "hide-input"
    ]
   },
   "outputs": [],
   "source": [
    "# Fct to stop Jupyter processing notebook cells past this location\n",
    "intro_RC <- function() {\n",
    "    # Define the message\n",
    "    message <- '<font size=\"4\" color=\"yellow\">\n",
    "        Welcome to the rough cut option: \n",
    "        </br>\n",
    "        <font color=\"lime\" size=\"3\"> \n",
    "        &emsp;  A final roughing cut can be performed. \n",
    "        </font>\n",
    "        <br>\n",
    "        </br>\n",
    "        </font>'\n",
    "\n",
    "    # Display the message and wait for Enter key press\n",
    "    invisible({\n",
    "      display_html(message)\n",
    "      readline(prompt = \"Press Enter to continue...\\n\")\n",
    "    })\n",
    "    \n",
    "    Rough_Cut()\n",
    "}"
   ]
  },
  {
   "cell_type": "markdown",
   "id": "1d773c15-6f6c-48d1-8110-610a8455a98a",
   "metadata": {},
   "source": [
    "#### <font color = lime> Input: roughing cut options \n"
   ]
  },
  {
   "cell_type": "code",
   "execution_count": null,
   "id": "04e221e6-7f16-41e9-8dad-05ba5f8b7eab",
   "metadata": {
    "tags": []
   },
   "outputs": [],
   "source": [
    "intro_RC()"
   ]
  },
  {
   "cell_type": "code",
   "execution_count": null,
   "id": "73b2f083-aa1f-4368-897a-407899dae170",
   "metadata": {
    "jupyter": {
     "source_hidden": true
    },
    "tags": [
     "hide-input"
    ],
    "vscode": {
     "languageId": "r"
    }
   },
   "outputs": [],
   "source": [
    "# Function to reduce the diameter to End_Diameter in granular sized cut(s) smaller than the roughing cut\n",
    "\n",
    "Finish_Cut <- function() { \n",
    "    \n",
    "    valid_input <- FALSE\n",
    "\n",
    "    while (!valid_input) {       \n",
    "        \n",
    "    # Display message with remaining unturned dimensional value(s), and prompt user to enter a finish cut dimension\n",
    "        user_input <- readline(\n",
    "                paste(\"The diameter of stock remaining to be removed before a finish cut is:\", \"\\n\", \n",
    "                format(LastX1_Value - End_Diameter, nsmall = 4), \"\\n\", \n",
    "                \"Enter the dimension for taking one or more finish cuts (.0xx) :\",\"\\n\" ))        \n",
    "                         \n",
    "        # var assisgned the user entered finish cut size\n",
    "        FinisCut <- as.numeric(user_input) \n",
    "    \n",
    "        if(LastX1_Value - End_Diameter > 0) {\n",
    "    \n",
    "            # Fct call, passes the var\n",
    "            gcode_shortlist(FinisCut)\n",
    "            \n",
    "            if(LastX1_Value - End_Diameter == 0) {\n",
    "                cat(\"TRUE True true true LastX1_Value - End_Diameter = 0 \", \"\\n\")\n",
    "                valid_input = TRUE\n",
    "                cat(\"Exiting ... finish cut\")\n",
    "                }\n",
    "            #  rerun finish cuts - when there is more than one finish cut\n",
    "            else if(LastX1_Value - End_Diameter > 0) {\n",
    "                Finish_Cut()\n",
    "                }  \n",
    "            \n",
    "            \n",
    "            #exit msg after fct call\n",
    "            cat(\"Exiting finish_cut ...\", \"\\n\")\n",
    "            # exit from while loop\n",
    "            valid_input = TRUE               \n",
    "            }\n",
    "        #  Needs work w/neg values\n",
    "        else if(LastX1_Value - End_Diameter <= 0) {\n",
    "            valid_input = TRUE        \n",
    "            cat(\"Leaving Finish_Cut fct.\", \"\\n\")\n",
    "            }\n",
    "        } # end while\n",
    "    } # end fct        \n",
    "\n",
    "# Function to prompt user for decision to make finish turn(s)\n",
    "Finish_Prompt <- function() {\n",
    "    \n",
    "    user_input <<- readline(\n",
    "                paste(\n",
    "                \"The stock diameter is currently : \" , format(LastX1_Value, nsmall=4), \"\\n\",\n",
    "                \"The final stock diameter remaining to be turned down is:\", format(LastX1_Value - End_Diameter, nsmall = 4) , \"\\n\",            \n",
    "                \"Enter Y to make one or more finish cuts.\", \"\\n\",\n",
    "                \"Or enter N to exit and accept the current stock diameter.\", \"\\n\", \"\\n\"))\n",
    "\n",
    "        # Convert input to uppercase for case-insensitive comparison\n",
    "        user_input <- toupper(user_input)\n",
    "        # assign user input value\n",
    "        yes_answer <- user_input\n",
    "    \n",
    "   \n",
    "        # Check if the input is 'Y' or 'N'\n",
    "        if (yes_answer == 'Y'  ) {\n",
    "            # Function call            \n",
    "            Finish_Cut()           \n",
    "            } # The exit after traveling some\n",
    "        if(yes_answer == 'N' ) {\n",
    "            cat(\"Exiting with no finish cut.\", \"\\n\")\n",
    "            \n",
    "         } else {\n",
    "                print(\"Invalid input. Restarting ...\")\n",
    "                intro_FC()\n",
    "          }    \n",
    "            \n",
    "    } # end fct"
   ]
  },
  {
   "cell_type": "code",
   "execution_count": null,
   "id": "4af07baf-965c-428f-8bc1-5d3f4620e894",
   "metadata": {
    "jupyter": {
     "source_hidden": true
    },
    "tags": [
     "hide-input"
    ],
    "vscode": {
     "languageId": "r"
    }
   },
   "outputs": [],
   "source": [
    "# Fct to stop Jupyter processing notebook cells past this location\n",
    "intro_FC <- function() {\n",
    "    # Define the message\n",
    "    message <- '<font size=\"4\" color=\"yellow\">\n",
    "          Welcome to the finish cut options: \n",
    "         <br>\n",
    "         <font color = \"lime\" size = \"3\" >\n",
    "         &emsp; One or more finish cuts of varying dimensions can be performed.\n",
    "         </font>\n",
    "         <br>\n",
    "         <br>\n",
    "         </font>'\n",
    "\n",
    "    # Display the message and wait for Enter key press\n",
    "    invisible({\n",
    "      display_html(message)\n",
    "      readline(prompt = \"Press Enter to continue...\\n\")\n",
    "    })\n",
    "    \n",
    "    Finish_Prompt()\n",
    "    \n",
    "}\n",
    "    \n",
    "    "
   ]
  },
  {
   "cell_type": "markdown",
   "id": "1d3aa3aa-b5a5-4747-b865-c7c18c7e0245",
   "metadata": {},
   "source": [
    "#### <font color = lime> Input: finish cut(s)"
   ]
  },
  {
   "cell_type": "code",
   "execution_count": null,
   "id": "2488250a-dbcb-4dc0-b010-e35167c5aa3e",
   "metadata": {
    "tags": []
   },
   "outputs": [],
   "source": [
    "intro_FC()  "
   ]
  },
  {
   "cell_type": "code",
   "execution_count": null,
   "id": "ad5b2c89-d68b-4f64-bef0-5fb863434580",
   "metadata": {
    "jupyter": {
     "source_hidden": true
    },
    "tags": [
     "hide-input"
    ]
   },
   "outputs": [],
   "source": [
    "# convert gcode list to gcode vector data structure\n",
    "gcode_Vector <- paste(gcode, sep = \" \")\n",
    "# Create data frame from the gcode character vector \n",
    "gcode_df <- data.frame(gcode = gcode_Vector)\n",
    "# s/b same as gcode length from above\n",
    "# nrow(gcode_df)\n",
    "\n",
    "\n",
    "# Create a data frame with the typical lathe preface gcode\n",
    "Intro_gcodes <- data.frame(gcode = c(\"%\", \"(Straigh Roughing Profile)\", \"(Lathe gcodes:)\", \"G07  ( lathe radius mode )\", \"G18   ( Plane: ZX )\", \"G20   (  inches for length units )\", \"G40   (  cancel the cutter compensation. )\", \"G49   ( cancel tool length offset )\", \"G90   ( distance mode: ABSOLUTE )\", \"G94   ( reset feed rate: inches / minute - Fx )\", \" \", \" \", \"G91 G28 X.25 Z.250 (fast move away and back)\", \"G90\", \"G28 X0.0 Z0.0 (Part Zero - homing sequence)\",\"G01 Z0.20 F5\", \"G01 Z0.00  (Z should be touching face of part again)\", \"G00 X0.75 (Verify Position on Part. Turn the steppers back to ON SWITCH)\",\"M00  (Paused)\", \" \"))\n",
    "\n",
    "# combine intro code with main gcode data\n",
    "gcode2 <- as.data.frame(rbind(Intro_gcodes, gcode_df) )  # combine dfs\n",
    "\n",
    "\n",
    "# Add the concluding positioning of X and Z.  Add the end of gcode file character, % \n",
    "closer <- data.frame(gcode = c(\"G01 X0.00 F3  (Move to Zero Home)\", \"G00 Z .75  (Move away from part)\", \"M30  (Rewind to start. Use M02 to restart in current end state.)\", \"%\", \"\\n\", \"%\" ))\n",
    "# closer\n",
    "\n",
    "\n",
    "# combine closer gcode with the main gcode\n",
    "gcode3 <- as.data.frame(rbind(gcode2, closer) )  # combine dfs"
   ]
  },
  {
   "cell_type": "markdown",
   "id": "5174fd5b-1d68-4ae4-a113-3ee7f3e748bb",
   "metadata": {},
   "source": [
    "#### <font color = lime> write: gcode to .csv file"
   ]
  },
  {
   "cell_type": "code",
   "execution_count": null,
   "id": "7ff6c686-0a99-40f6-8afc-e434601cb2f8",
   "metadata": {
    "vscode": {
     "languageId": "r"
    }
   },
   "outputs": [],
   "source": [
    "write.csv(gcode3, file = \"turn_down.ngc\", row.names = FALSE, , quote = FALSE)"
   ]
  },
  {
   "cell_type": "code",
   "execution_count": null,
   "id": "32bb8aca-2775-48c8-83b6-669f0fdb2667",
   "metadata": {
    "jupyter": {
     "source_hidden": true
    },
    "tags": []
   },
   "outputs": [],
   "source": [
    "# Define the message\n",
    "message <- '<font size=\"4\" color=\"yellow\">\n",
    "        Message: The turn down gcode file is completed. \n",
    "        <br>\n",
    "        <font color = \"lime\" size = \"3\">\n",
    "        &emsp; The gcode file has been created named: turn_down.ngc \n",
    "        <br>\n",
    "        </font>\n",
    "        <br>\n",
    "        </font>'\n",
    "\n",
    "    invisible({\n",
    "      display_html(message)\n",
    "      readline(prompt = \"Press Enter to continue...\\n\")\n",
    "    })\n"
   ]
  },
  {
   "cell_type": "markdown",
   "id": "048d24ab-1ff5-4025-831e-7bf8e20dc6f6",
   "metadata": {},
   "source": [
    "#### <font color = lime> read: gcode from .csv file"
   ]
  },
  {
   "cell_type": "code",
   "execution_count": null,
   "id": "f9c9350f-9998-487e-abaa-8f244adce1c0",
   "metadata": {},
   "outputs": [],
   "source": [
    "gcode <- read.csv(\"turn_down.ngc\")"
   ]
  },
  {
   "cell_type": "markdown",
   "id": "0f2a7397-1041-4ae8-9fbd-b0aa3a368cd6",
   "metadata": {},
   "source": [
    "#### <font color = lime> Lathe plots:"
   ]
  },
  {
   "cell_type": "code",
   "execution_count": null,
   "id": "2f41d225-5a38-4f19-a859-b3eec8be4196",
   "metadata": {
    "jupyter": {
     "source_hidden": true
    },
    "tags": []
   },
   "outputs": [],
   "source": [
    "#  combine the two sources of X1 positional data into a single list for plotting\n",
    "\n",
    "#empty list\n",
    "xPos_List <- list()\n",
    "# convert the df data of X1 values into list data\n",
    "for( i in 1:nrow(X1_df)) {\n",
    "    temp <- X1_df[i,]\n",
    "    xPos_List <- append(xPos_List, temp)\n",
    "    }\n",
    "\n",
    "# combine the X1 values from rough cut / finish cut options with the other X1 values in list\n",
    "\n",
    "x_All_List <- append(xPos_List, getLastX)\n",
    "\n",
    "# for plotting effect, create lead  / follow values to represent the starting stock diameter and ending stock diameter\n",
    "X_lead <- rep(x_All_List[1], 2)\n",
    "X_follow <- rep(x_All_List[length(x_All_List)], 2)\n",
    "\n",
    "x_All_list_lead <- append(X_lead, x_All_List)\n",
    "# \"--------------------------------------------------------\"\n",
    "\n",
    "# the Y values for plotting \n",
    "X1_Plot_y<- append(x_All_list_lead, X_follow)   \n",
    "\n",
    "# the X increments for plotting \n",
    "X1_Plot_x <- seq(1, length(X1_Plot_y), 1)\n",
    "\n",
    "\n",
    "# Plot using X1 list data with extensions for start dia / end dia\n",
    "\n",
    "plot(x = X1_Plot_x, y = X1_Plot_y, \n",
    "     type = \"S\", lwd = 3, \n",
    "     col = \"blue\", \n",
    "     main = \"Lathe: Rough/Finish Turn-Down\", \n",
    "     xlab = \"Turns\", ylab = \"Diameter\")"
   ]
  },
  {
   "cell_type": "code",
   "execution_count": null,
   "id": "b661cd1e-bb01-46f5-acd8-e85f23002396",
   "metadata": {
    "jupyter": {
     "source_hidden": true
    },
    "tags": []
   },
   "outputs": [],
   "source": [
    "# Plot using df data\n",
    "# combine the X1 move data ( combine X1_df with getLastX  ) for plotting\n",
    "\n",
    "# the X1 moves derived from Rough Cut / Finish Cut fcts\n",
    "getLastX <- as.numeric(getLastX) \n",
    "\n",
    "# create df\n",
    "getLastX_df <- data.frame(X = getLastX)\n",
    "\n",
    "# combine the two X1 move sources\n",
    "plotX <- rbind(X1_df, getLastX_df)\n",
    "\n",
    "# create the data for an index column \n",
    "dex <- seq(from = 1, to = nrow(plotX), by = 1 )\n",
    "dex_df <- data.frame(Y = dex)\n",
    "\n",
    "# create a data frame with the index column and the X1 moves\n",
    "plotData <- data.frame(X = dex_df, Y = plotX)\n",
    "\n",
    "# plot the X1 moves - which result in the reduction of the diameter\n",
    "# plot(plotData, type = \"s\", col = \"blue\", lwd = 4,  main = \"Lathe: Rough/Finish Turn-Down\", xlab = \"Turns\", ylab = \"Diameter\")"
   ]
  },
  {
   "cell_type": "code",
   "execution_count": null,
   "id": "a68ea9a9-dde2-4a7e-807c-f920b965a7b5",
   "metadata": {},
   "outputs": [],
   "source": []
  },
  {
   "cell_type": "code",
   "execution_count": null,
   "id": "b71548e9-5fbe-422b-afdf-01cc2516c1cb",
   "metadata": {
    "jupyter": {
     "source_hidden": true
    },
    "tags": []
   },
   "outputs": [],
   "source": [
    "# Display the message and wait for Enter key press\n",
    "message <- \"<font color = yellow> Ending lathe gcode notebook.\"\n",
    "    invisible({\n",
    "      IRdisplay::display_html(message)\n",
    "      readline(prompt = \"Press Enter to continue...\")\n",
    "    })"
   ]
  },
  {
   "cell_type": "code",
   "execution_count": null,
   "id": "fd739449-22e7-44f0-a51e-bacc9651de6c",
   "metadata": {},
   "outputs": [],
   "source": []
  },
  {
   "cell_type": "markdown",
   "id": "b1effcc1-5804-4187-a301-85343a2155d3",
   "metadata": {},
   "source": [
    "#### <font color = yellow> gcode display"
   ]
  },
  {
   "cell_type": "code",
   "execution_count": null,
   "id": "7f79c038-40bf-41f0-a619-a19729f0f8d5",
   "metadata": {
    "tags": []
   },
   "outputs": [],
   "source": [
    "gcode"
   ]
  },
  {
   "cell_type": "markdown",
   "id": "12486417-04f1-4dfe-ba1c-fa3568816181",
   "metadata": {
    "jp-MarkdownHeadingCollapsed": true,
    "tags": []
   },
   "source": [
    "##### <font color = lime> version / package control\n"
   ]
  },
  {
   "cell_type": "markdown",
   "id": "1d3e24e7-2a88-487a-883c-5d255b7a5635",
   "metadata": {
    "tags": []
   },
   "source": [
    "####   # Done and preserved as markdown\n",
    "\n",
    "\n",
    "\n",
    "    R version 4.3.0 (2023-04-21 ucrt)\n",
    "    Platform: x86_64-w64-mingw32/x64 (64-bit)\n",
    "    Running under: Windows 10 x64 (build 19045)\n",
    "\n",
    "    Matrix products: default\n",
    "\n",
    "\n",
    "    locale:\n",
    "    [1] LC_COLLATE=English_United States.utf8 \n",
    "    [2] LC_CTYPE=English_United States.utf8   \n",
    "    [3] LC_MONETARY=English_United States.utf8\n",
    "    [4] LC_NUMERIC=C                          \n",
    "    [5] LC_TIME=English_United States.utf8    \n",
    "\n",
    "    time zone: America/Anchorage\n",
    "    tzcode source: internal\n",
    "\n",
    "    attached base packages:\n",
    "    [1] stats     graphics  grDevices utils     datasets  methods   base     \n",
    "\n",
    "    other attached packages:\n",
    "    [1] IRdisplay_1.1    \n",
    "\n",
    "    loaded via a namespace (and not attached):\n",
    "     [1] digest_0.6.31   utf8_1.2.3      base64enc_0.1-3 fastmap_1.1.1  \n",
    "     [5] glue_1.6.2      htmltools_0.5.7 repr_1.1.6      lifecycle_1.0.4\n",
    "     [9] cli_3.6.1       fansi_1.0.4     vctrs_0.6.5     pbdZMQ_0.3-9   \n",
    "    [13] compiler_4.3.0  tools_4.3.0     evaluate_0.23   pillar_1.9.0   \n",
    "    [17] crayon_1.5.2    rlang_1.1.1     jsonlite_1.8.4  IRkernel_1.3.2 \n",
    "    [21] uuid_1.1-0     "
   ]
  },
  {
   "cell_type": "code",
   "execution_count": null,
   "id": "6971f334-305b-4db7-945d-d6c391e4619f",
   "metadata": {
    "vscode": {
     "languageId": "r"
    }
   },
   "outputs": [],
   "source": []
  }
 ],
 "metadata": {
  "celltoolbar": "Edit Metadata",
  "kernelspec": {
   "display_name": "R",
   "language": "R",
   "name": "ir"
  },
  "language_info": {
   "codemirror_mode": "r",
   "file_extension": ".r",
   "mimetype": "text/x-r-source",
   "name": "R",
   "pygments_lexer": "r",
   "version": "4.3.0"
  },
  "toc-showcode": true,
  "toc-showmarkdowntxt": false,
  "toc-showtags": true
 },
 "nbformat": 4,
 "nbformat_minor": 5
}
